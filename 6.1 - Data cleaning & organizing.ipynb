{
 "cells": [
  {
   "cell_type": "markdown",
   "id": "238cb5ea",
   "metadata": {},
   "source": [
    "# Data cleaning for the used vehicle dataset"
   ]
  },
  {
   "cell_type": "code",
   "execution_count": 1,
   "id": "e78dc4b2",
   "metadata": {},
   "outputs": [],
   "source": [
    "# Import libraries\n",
    "import pandas as pd\n",
    "import numpy as np\n",
    "import os"
   ]
  },
  {
   "cell_type": "code",
   "execution_count": 2,
   "id": "4b30aa24",
   "metadata": {},
   "outputs": [],
   "source": [
    "path = 'D:\\Downloads\\Data Analytics\\TASK 6'"
   ]
  },
  {
   "cell_type": "code",
   "execution_count": 3,
   "id": "6399362c",
   "metadata": {},
   "outputs": [],
   "source": [
    "df = pd.read_csv(os.path.join(path,'Used_cars_precleanExcel.csv'), index_col = False)"
   ]
  },
  {
   "cell_type": "code",
   "execution_count": 4,
   "id": "dea6e01c",
   "metadata": {
    "scrolled": true
   },
   "outputs": [
    {
     "name": "stdout",
     "output_type": "stream",
     "text": [
      "<class 'pandas.core.frame.DataFrame'>\n",
      "RangeIndex: 421344 entries, 0 to 421343\n",
      "Data columns (total 14 columns):\n",
      " #   Column        Non-Null Count   Dtype \n",
      "---  ------        --------------   ----- \n",
      " 0   id            421344 non-null  int64 \n",
      " 1   year          421344 non-null  int64 \n",
      " 2   manufacturer  405077 non-null  object\n",
      " 3   model         416149 non-null  object\n",
      " 4   cylinders     246585 non-null  object\n",
      " 5   fuel          419172 non-null  object\n",
      " 6   price         421344 non-null  int64 \n",
      " 7   odometer      421344 non-null  int64 \n",
      " 8   title_status  413986 non-null  object\n",
      " 9   transmission  419649 non-null  object\n",
      " 10  type          329562 non-null  object\n",
      " 11  paint_color   293254 non-null  object\n",
      " 12  state         421344 non-null  object\n",
      " 13  Date posted   421344 non-null  object\n",
      "dtypes: int64(4), object(10)\n",
      "memory usage: 45.0+ MB\n"
     ]
    }
   ],
   "source": [
    "# Having a first look at the data to find inconsistencies and to start thinking about what needs to be changed\n",
    "df.info()"
   ]
  },
  {
   "cell_type": "markdown",
   "id": "6cbf4c17",
   "metadata": {},
   "source": [
    "As we can see, the \"type column has about 100,000 missing values compared to the others, and considering that it will be one of the main parts of the research, it will need to be filtered by the available data, as it cannot be assumed."
   ]
  },
  {
   "cell_type": "code",
   "execution_count": 5,
   "id": "6c6cf84c",
   "metadata": {},
   "outputs": [],
   "source": [
    "# Also, lets modify some column names to make it easier to understand.\n",
    "df.rename(columns = {'year' : 'model year'}, inplace = True)\n",
    "df.rename(columns = {'odometer' : 'mileage'}, inplace = True)\n",
    "df.rename(columns = {'title_status' : 'car conditions'}, inplace = True)\n",
    "df.rename(columns = {'paint_color' : 'car colour'}, inplace = True)\n",
    "df.rename(columns = {'type' : 'car type'}, inplace = True)"
   ]
  },
  {
   "cell_type": "code",
   "execution_count": 6,
   "id": "d264cffe",
   "metadata": {},
   "outputs": [
    {
     "data": {
      "text/plain": [
       "id                     0\n",
       "model year             0\n",
       "manufacturer       16267\n",
       "model               5195\n",
       "cylinders         174759\n",
       "fuel                2172\n",
       "price                  0\n",
       "mileage                0\n",
       "car conditions      7358\n",
       "transmission        1695\n",
       "car type           91782\n",
       "car colour        128090\n",
       "state                  0\n",
       "Date posted            0\n",
       "dtype: int64"
      ]
     },
     "execution_count": 6,
     "metadata": {},
     "output_type": "execute_result"
    }
   ],
   "source": [
    "df.isnull().sum()"
   ]
  },
  {
   "cell_type": "markdown",
   "id": "6c8cdf2c",
   "metadata": {},
   "source": [
    "Looking further into it, we noticed that there is a lot of missing values for \"cylinders\" and \"car colour\" as well.\n",
    "But those are not fundamental to our research purpose, so we can keep it with the missing values.\n",
    "\n",
    "The focus will be to remove the rows with missing values that are fundamental, but cannot be assumed. \n",
    "Such as \"car type\", \"fuel\", \"transmission\" columns.\n",
    "\n",
    "Lastly, data that doesn't have the information regarding the \"manufacturer\",\"car colour\", \"car conditions\", \"cylinder\" and \"model\" will be update to unknown.       "
   ]
  },
  {
   "cell_type": "code",
   "execution_count": 7,
   "id": "61794b13",
   "metadata": {},
   "outputs": [],
   "source": [
    "df_type_clean = df[df['car type'].isnull() == False]"
   ]
  },
  {
   "cell_type": "code",
   "execution_count": 8,
   "id": "cb840c69",
   "metadata": {},
   "outputs": [],
   "source": [
    "df_fuel_clean = df_type_clean[df_type_clean['fuel'].isnull() == False]"
   ]
  },
  {
   "cell_type": "code",
   "execution_count": 9,
   "id": "c169abbd",
   "metadata": {},
   "outputs": [],
   "source": [
    "df_trans_clean = df_fuel_clean[df_fuel_clean['transmission'].isnull() == False]"
   ]
  },
  {
   "cell_type": "code",
   "execution_count": 10,
   "id": "28a2e6df",
   "metadata": {
    "scrolled": true
   },
   "outputs": [
    {
     "name": "stderr",
     "output_type": "stream",
     "text": [
      "C:\\Users\\anegl\\AppData\\Local\\Temp\\ipykernel_24284\\2896625644.py:2: SettingWithCopyWarning: \n",
      "A value is trying to be set on a copy of a slice from a DataFrame\n",
      "\n",
      "See the caveats in the documentation: https://pandas.pydata.org/pandas-docs/stable/user_guide/indexing.html#returning-a-view-versus-a-copy\n",
      "  df_trans_clean['manufacturer'].fillna('unknown', inplace=True)\n"
     ]
    }
   ],
   "source": [
    "# Replacing non-essential null values for 'unknown' \n",
    "df_trans_clean['manufacturer'].fillna('unknown', inplace=True)"
   ]
  },
  {
   "cell_type": "code",
   "execution_count": 11,
   "id": "85ada9e5",
   "metadata": {},
   "outputs": [
    {
     "name": "stderr",
     "output_type": "stream",
     "text": [
      "C:\\Users\\anegl\\AppData\\Local\\Temp\\ipykernel_24284\\3475911822.py:1: SettingWithCopyWarning: \n",
      "A value is trying to be set on a copy of a slice from a DataFrame\n",
      "\n",
      "See the caveats in the documentation: https://pandas.pydata.org/pandas-docs/stable/user_guide/indexing.html#returning-a-view-versus-a-copy\n",
      "  df_trans_clean['car colour'].fillna('unknown', inplace=True)\n"
     ]
    }
   ],
   "source": [
    "df_trans_clean['car colour'].fillna('unknown', inplace=True)"
   ]
  },
  {
   "cell_type": "code",
   "execution_count": 12,
   "id": "955f349c",
   "metadata": {},
   "outputs": [
    {
     "name": "stderr",
     "output_type": "stream",
     "text": [
      "C:\\Users\\anegl\\AppData\\Local\\Temp\\ipykernel_24284\\242294730.py:1: SettingWithCopyWarning: \n",
      "A value is trying to be set on a copy of a slice from a DataFrame\n",
      "\n",
      "See the caveats in the documentation: https://pandas.pydata.org/pandas-docs/stable/user_guide/indexing.html#returning-a-view-versus-a-copy\n",
      "  df_trans_clean['car conditions'].fillna('unknown', inplace=True)\n"
     ]
    }
   ],
   "source": [
    "df_trans_clean['car conditions'].fillna('unknown', inplace=True)"
   ]
  },
  {
   "cell_type": "code",
   "execution_count": 13,
   "id": "4962ce4d",
   "metadata": {},
   "outputs": [
    {
     "name": "stderr",
     "output_type": "stream",
     "text": [
      "C:\\Users\\anegl\\AppData\\Local\\Temp\\ipykernel_24284\\1858296371.py:1: SettingWithCopyWarning: \n",
      "A value is trying to be set on a copy of a slice from a DataFrame\n",
      "\n",
      "See the caveats in the documentation: https://pandas.pydata.org/pandas-docs/stable/user_guide/indexing.html#returning-a-view-versus-a-copy\n",
      "  df_trans_clean['cylinders'].fillna('unknown', inplace=True)\n"
     ]
    }
   ],
   "source": [
    "df_trans_clean['cylinders'].fillna('unknown', inplace=True)"
   ]
  },
  {
   "cell_type": "code",
   "execution_count": 14,
   "id": "ea57899e",
   "metadata": {},
   "outputs": [
    {
     "name": "stderr",
     "output_type": "stream",
     "text": [
      "C:\\Users\\anegl\\AppData\\Local\\Temp\\ipykernel_24284\\3802012966.py:1: SettingWithCopyWarning: \n",
      "A value is trying to be set on a copy of a slice from a DataFrame\n",
      "\n",
      "See the caveats in the documentation: https://pandas.pydata.org/pandas-docs/stable/user_guide/indexing.html#returning-a-view-versus-a-copy\n",
      "  df_trans_clean['model'].fillna('unknown', inplace=True)\n"
     ]
    }
   ],
   "source": [
    "df_trans_clean['model'].fillna('unknown', inplace=True)"
   ]
  },
  {
   "cell_type": "code",
   "execution_count": 15,
   "id": "4de69837",
   "metadata": {},
   "outputs": [
    {
     "data": {
      "text/plain": [
       "id                0\n",
       "model year        0\n",
       "manufacturer      0\n",
       "model             0\n",
       "cylinders         0\n",
       "fuel              0\n",
       "price             0\n",
       "mileage           0\n",
       "car conditions    0\n",
       "transmission      0\n",
       "car type          0\n",
       "car colour        0\n",
       "state             0\n",
       "Date posted       0\n",
       "dtype: int64"
      ]
     },
     "execution_count": 15,
     "metadata": {},
     "output_type": "execute_result"
    }
   ],
   "source": [
    "df_trans_clean.isnull().sum()"
   ]
  },
  {
   "cell_type": "code",
   "execution_count": 16,
   "id": "aeb4e6db",
   "metadata": {},
   "outputs": [],
   "source": [
    "# Checking as well for duplicates\n",
    "df_dupe = df_trans_clean[df_trans_clean.duplicated()]"
   ]
  },
  {
   "cell_type": "code",
   "execution_count": 17,
   "id": "4241b990",
   "metadata": {},
   "outputs": [
    {
     "data": {
      "text/html": [
       "<div>\n",
       "<style scoped>\n",
       "    .dataframe tbody tr th:only-of-type {\n",
       "        vertical-align: middle;\n",
       "    }\n",
       "\n",
       "    .dataframe tbody tr th {\n",
       "        vertical-align: top;\n",
       "    }\n",
       "\n",
       "    .dataframe thead th {\n",
       "        text-align: right;\n",
       "    }\n",
       "</style>\n",
       "<table border=\"1\" class=\"dataframe\">\n",
       "  <thead>\n",
       "    <tr style=\"text-align: right;\">\n",
       "      <th></th>\n",
       "      <th>id</th>\n",
       "      <th>model year</th>\n",
       "      <th>manufacturer</th>\n",
       "      <th>model</th>\n",
       "      <th>cylinders</th>\n",
       "      <th>fuel</th>\n",
       "      <th>price</th>\n",
       "      <th>mileage</th>\n",
       "      <th>car conditions</th>\n",
       "      <th>transmission</th>\n",
       "      <th>car type</th>\n",
       "      <th>car colour</th>\n",
       "      <th>state</th>\n",
       "      <th>Date posted</th>\n",
       "    </tr>\n",
       "  </thead>\n",
       "  <tbody>\n",
       "  </tbody>\n",
       "</table>\n",
       "</div>"
      ],
      "text/plain": [
       "Empty DataFrame\n",
       "Columns: [id, model year, manufacturer, model, cylinders, fuel, price, mileage, car conditions, transmission, car type, car colour, state, Date posted]\n",
       "Index: []"
      ]
     },
     "execution_count": 17,
     "metadata": {},
     "output_type": "execute_result"
    }
   ],
   "source": [
    "df_dupe"
   ]
  },
  {
   "cell_type": "code",
   "execution_count": 18,
   "id": "f231366e",
   "metadata": {},
   "outputs": [],
   "source": [
    "# Now let's revisit the dataframe\n",
    "df_clean = df_trans_clean"
   ]
  },
  {
   "cell_type": "code",
   "execution_count": 19,
   "id": "497c808b",
   "metadata": {},
   "outputs": [
    {
     "data": {
      "text/html": [
       "<div>\n",
       "<style scoped>\n",
       "    .dataframe tbody tr th:only-of-type {\n",
       "        vertical-align: middle;\n",
       "    }\n",
       "\n",
       "    .dataframe tbody tr th {\n",
       "        vertical-align: top;\n",
       "    }\n",
       "\n",
       "    .dataframe thead th {\n",
       "        text-align: right;\n",
       "    }\n",
       "</style>\n",
       "<table border=\"1\" class=\"dataframe\">\n",
       "  <thead>\n",
       "    <tr style=\"text-align: right;\">\n",
       "      <th></th>\n",
       "      <th>id</th>\n",
       "      <th>model year</th>\n",
       "      <th>manufacturer</th>\n",
       "      <th>model</th>\n",
       "      <th>cylinders</th>\n",
       "      <th>fuel</th>\n",
       "      <th>price</th>\n",
       "      <th>mileage</th>\n",
       "      <th>car conditions</th>\n",
       "      <th>transmission</th>\n",
       "      <th>car type</th>\n",
       "      <th>car colour</th>\n",
       "      <th>state</th>\n",
       "      <th>Date posted</th>\n",
       "    </tr>\n",
       "  </thead>\n",
       "  <tbody>\n",
       "    <tr>\n",
       "      <th>0</th>\n",
       "      <td>7317096748</td>\n",
       "      <td>2018</td>\n",
       "      <td>chevrolet</td>\n",
       "      <td>silverado 1500</td>\n",
       "      <td>8 cylinders</td>\n",
       "      <td>gas</td>\n",
       "      <td>34000</td>\n",
       "      <td>28000</td>\n",
       "      <td>lien</td>\n",
       "      <td>automatic</td>\n",
       "      <td>truck</td>\n",
       "      <td>white</td>\n",
       "      <td>wv</td>\n",
       "      <td>04/05/2021</td>\n",
       "    </tr>\n",
       "    <tr>\n",
       "      <th>1</th>\n",
       "      <td>7317101084</td>\n",
       "      <td>2007</td>\n",
       "      <td>ford</td>\n",
       "      <td>f250 superduty 4wd xl</td>\n",
       "      <td>8 cylinders</td>\n",
       "      <td>gas</td>\n",
       "      <td>8975</td>\n",
       "      <td>140098</td>\n",
       "      <td>clean</td>\n",
       "      <td>automatic</td>\n",
       "      <td>truck</td>\n",
       "      <td>white</td>\n",
       "      <td>wi</td>\n",
       "      <td>04/05/2021</td>\n",
       "    </tr>\n",
       "    <tr>\n",
       "      <th>2</th>\n",
       "      <td>7317098990</td>\n",
       "      <td>2007</td>\n",
       "      <td>ford</td>\n",
       "      <td>f250 xl 4wd</td>\n",
       "      <td>8 cylinders</td>\n",
       "      <td>gas</td>\n",
       "      <td>8975</td>\n",
       "      <td>140980</td>\n",
       "      <td>clean</td>\n",
       "      <td>automatic</td>\n",
       "      <td>pickup</td>\n",
       "      <td>white</td>\n",
       "      <td>wi</td>\n",
       "      <td>04/05/2021</td>\n",
       "    </tr>\n",
       "    <tr>\n",
       "      <th>3</th>\n",
       "      <td>7317098055</td>\n",
       "      <td>2009</td>\n",
       "      <td>toyota</td>\n",
       "      <td>corolla</td>\n",
       "      <td>4 cylinders</td>\n",
       "      <td>gas</td>\n",
       "      <td>4000</td>\n",
       "      <td>132000</td>\n",
       "      <td>clean</td>\n",
       "      <td>automatic</td>\n",
       "      <td>sedan</td>\n",
       "      <td>red</td>\n",
       "      <td>wi</td>\n",
       "      <td>04/05/2021</td>\n",
       "    </tr>\n",
       "    <tr>\n",
       "      <th>4</th>\n",
       "      <td>7317085372</td>\n",
       "      <td>2018</td>\n",
       "      <td>ford</td>\n",
       "      <td>f-150</td>\n",
       "      <td>8 cylinders</td>\n",
       "      <td>gas</td>\n",
       "      <td>32489</td>\n",
       "      <td>40851</td>\n",
       "      <td>clean</td>\n",
       "      <td>automatic</td>\n",
       "      <td>pickup</td>\n",
       "      <td>custom</td>\n",
       "      <td>tn</td>\n",
       "      <td>04/05/2021</td>\n",
       "    </tr>\n",
       "    <tr>\n",
       "      <th>...</th>\n",
       "      <td>...</td>\n",
       "      <td>...</td>\n",
       "      <td>...</td>\n",
       "      <td>...</td>\n",
       "      <td>...</td>\n",
       "      <td>...</td>\n",
       "      <td>...</td>\n",
       "      <td>...</td>\n",
       "      <td>...</td>\n",
       "      <td>...</td>\n",
       "      <td>...</td>\n",
       "      <td>...</td>\n",
       "      <td>...</td>\n",
       "      <td>...</td>\n",
       "    </tr>\n",
       "    <tr>\n",
       "      <th>421332</th>\n",
       "      <td>7301590088</td>\n",
       "      <td>2009</td>\n",
       "      <td>nissan</td>\n",
       "      <td>altima</td>\n",
       "      <td>4 cylinders</td>\n",
       "      <td>gas</td>\n",
       "      <td>3350</td>\n",
       "      <td>158000</td>\n",
       "      <td>clean</td>\n",
       "      <td>automatic</td>\n",
       "      <td>sedan</td>\n",
       "      <td>blue</td>\n",
       "      <td>co</td>\n",
       "      <td>04/04/2021</td>\n",
       "    </tr>\n",
       "    <tr>\n",
       "      <th>421336</th>\n",
       "      <td>7301583505</td>\n",
       "      <td>2013</td>\n",
       "      <td>dodge</td>\n",
       "      <td>dart</td>\n",
       "      <td>4 cylinders</td>\n",
       "      <td>gas</td>\n",
       "      <td>119</td>\n",
       "      <td>71800</td>\n",
       "      <td>unknown</td>\n",
       "      <td>automatic</td>\n",
       "      <td>sedan</td>\n",
       "      <td>unknown</td>\n",
       "      <td>wi</td>\n",
       "      <td>04/04/2021</td>\n",
       "    </tr>\n",
       "    <tr>\n",
       "      <th>421337</th>\n",
       "      <td>7301589688</td>\n",
       "      <td>2000</td>\n",
       "      <td>mercury</td>\n",
       "      <td>grand marquis</td>\n",
       "      <td>8 cylinders</td>\n",
       "      <td>gas</td>\n",
       "      <td>4500</td>\n",
       "      <td>140000</td>\n",
       "      <td>clean</td>\n",
       "      <td>automatic</td>\n",
       "      <td>sedan</td>\n",
       "      <td>blue</td>\n",
       "      <td>ca</td>\n",
       "      <td>04/04/2021</td>\n",
       "    </tr>\n",
       "    <tr>\n",
       "      <th>421342</th>\n",
       "      <td>7301587431</td>\n",
       "      <td>2002</td>\n",
       "      <td>ford</td>\n",
       "      <td>f-150</td>\n",
       "      <td>8 cylinders</td>\n",
       "      <td>gas</td>\n",
       "      <td>6500</td>\n",
       "      <td>211000</td>\n",
       "      <td>clean</td>\n",
       "      <td>automatic</td>\n",
       "      <td>pickup</td>\n",
       "      <td>black</td>\n",
       "      <td>ca</td>\n",
       "      <td>04/04/2021</td>\n",
       "    </tr>\n",
       "    <tr>\n",
       "      <th>421343</th>\n",
       "      <td>7301584031</td>\n",
       "      <td>2003</td>\n",
       "      <td>chevrolet</td>\n",
       "      <td>venture van</td>\n",
       "      <td>6 cylinders</td>\n",
       "      <td>gas</td>\n",
       "      <td>1000</td>\n",
       "      <td>134950</td>\n",
       "      <td>clean</td>\n",
       "      <td>automatic</td>\n",
       "      <td>mini-van</td>\n",
       "      <td>white</td>\n",
       "      <td>ca</td>\n",
       "      <td>04/04/2021</td>\n",
       "    </tr>\n",
       "  </tbody>\n",
       "</table>\n",
       "<p>326237 rows × 14 columns</p>\n",
       "</div>"
      ],
      "text/plain": [
       "                id  model year manufacturer                  model  \\\n",
       "0       7317096748        2018    chevrolet         silverado 1500   \n",
       "1       7317101084        2007         ford  f250 superduty 4wd xl   \n",
       "2       7317098990        2007         ford            f250 xl 4wd   \n",
       "3       7317098055        2009       toyota                corolla   \n",
       "4       7317085372        2018         ford                  f-150   \n",
       "...            ...         ...          ...                    ...   \n",
       "421332  7301590088        2009       nissan                 altima   \n",
       "421336  7301583505        2013        dodge                   dart   \n",
       "421337  7301589688        2000      mercury          grand marquis   \n",
       "421342  7301587431        2002         ford                  f-150   \n",
       "421343  7301584031        2003    chevrolet            venture van   \n",
       "\n",
       "          cylinders fuel  price  mileage car conditions transmission  \\\n",
       "0       8 cylinders  gas  34000    28000           lien    automatic   \n",
       "1       8 cylinders  gas   8975   140098          clean    automatic   \n",
       "2       8 cylinders  gas   8975   140980          clean    automatic   \n",
       "3       4 cylinders  gas   4000   132000          clean    automatic   \n",
       "4       8 cylinders  gas  32489    40851          clean    automatic   \n",
       "...             ...  ...    ...      ...            ...          ...   \n",
       "421332  4 cylinders  gas   3350   158000          clean    automatic   \n",
       "421336  4 cylinders  gas    119    71800        unknown    automatic   \n",
       "421337  8 cylinders  gas   4500   140000          clean    automatic   \n",
       "421342  8 cylinders  gas   6500   211000          clean    automatic   \n",
       "421343  6 cylinders  gas   1000   134950          clean    automatic   \n",
       "\n",
       "        car type car colour state Date posted  \n",
       "0          truck      white    wv  04/05/2021  \n",
       "1          truck      white    wi  04/05/2021  \n",
       "2         pickup      white    wi  04/05/2021  \n",
       "3          sedan        red    wi  04/05/2021  \n",
       "4         pickup     custom    tn  04/05/2021  \n",
       "...          ...        ...   ...         ...  \n",
       "421332     sedan       blue    co  04/04/2021  \n",
       "421336     sedan    unknown    wi  04/04/2021  \n",
       "421337     sedan       blue    ca  04/04/2021  \n",
       "421342    pickup      black    ca  04/04/2021  \n",
       "421343  mini-van      white    ca  04/04/2021  \n",
       "\n",
       "[326237 rows x 14 columns]"
      ]
     },
     "execution_count": 19,
     "metadata": {},
     "output_type": "execute_result"
    }
   ],
   "source": [
    "df_clean"
   ]
  },
  {
   "cell_type": "code",
   "execution_count": 20,
   "id": "31342981",
   "metadata": {},
   "outputs": [
    {
     "name": "stdout",
     "output_type": "stream",
     "text": [
      "<class 'pandas.core.frame.DataFrame'>\n",
      "Int64Index: 326237 entries, 0 to 421343\n",
      "Data columns (total 14 columns):\n",
      " #   Column          Non-Null Count   Dtype \n",
      "---  ------          --------------   ----- \n",
      " 0   id              326237 non-null  int64 \n",
      " 1   model year      326237 non-null  int64 \n",
      " 2   manufacturer    326237 non-null  object\n",
      " 3   model           326237 non-null  object\n",
      " 4   cylinders       326237 non-null  object\n",
      " 5   fuel            326237 non-null  object\n",
      " 6   price           326237 non-null  int64 \n",
      " 7   mileage         326237 non-null  int64 \n",
      " 8   car conditions  326237 non-null  object\n",
      " 9   transmission    326237 non-null  object\n",
      " 10  car type        326237 non-null  object\n",
      " 11  car colour      326237 non-null  object\n",
      " 12  state           326237 non-null  object\n",
      " 13  Date posted     326237 non-null  object\n",
      "dtypes: int64(4), object(10)\n",
      "memory usage: 37.3+ MB\n"
     ]
    }
   ],
   "source": [
    "df_clean.info()"
   ]
  },
  {
   "cell_type": "code",
   "execution_count": 21,
   "id": "7844b711",
   "metadata": {},
   "outputs": [],
   "source": [
    "# Now, lets create a new column based on the mileage, to determine if the cars are in any of the categories below:\n",
    "# 'New','Very low mileage', 'Low mileage', 'Decent mileage', 'High mileage', 'Very high mileage' "
   ]
  },
  {
   "cell_type": "code",
   "execution_count": 22,
   "id": "603b38d1",
   "metadata": {},
   "outputs": [
    {
     "name": "stderr",
     "output_type": "stream",
     "text": [
      "C:\\Users\\anegl\\AppData\\Local\\Temp\\ipykernel_24284\\2723514974.py:1: SettingWithCopyWarning: \n",
      "A value is trying to be set on a copy of a slice from a DataFrame.\n",
      "Try using .loc[row_indexer,col_indexer] = value instead\n",
      "\n",
      "See the caveats in the documentation: https://pandas.pydata.org/pandas-docs/stable/user_guide/indexing.html#returning-a-view-versus-a-copy\n",
      "  df_clean['mileage category'] = df_clean['mileage']\n"
     ]
    }
   ],
   "source": [
    "df_clean['mileage category'] = df_clean['mileage']"
   ]
  },
  {
   "cell_type": "code",
   "execution_count": 23,
   "id": "56822123",
   "metadata": {},
   "outputs": [
    {
     "name": "stderr",
     "output_type": "stream",
     "text": [
      "C:\\Users\\anegl\\AppData\\Local\\Temp\\ipykernel_24284\\1458956860.py:1: SettingWithCopyWarning: \n",
      "A value is trying to be set on a copy of a slice from a DataFrame.\n",
      "Try using .loc[row_indexer,col_indexer] = value instead\n",
      "\n",
      "See the caveats in the documentation: https://pandas.pydata.org/pandas-docs/stable/user_guide/indexing.html#returning-a-view-versus-a-copy\n",
      "  df_clean.loc[df_clean['mileage'] < 500, 'mileage category']='new'\n"
     ]
    }
   ],
   "source": [
    "df_clean.loc[df_clean['mileage'] < 500, 'mileage category']='new'\n",
    "df_clean.loc[(df_clean['mileage'] >= 500)&(df_clean['mileage'] <10000), 'mileage category']='very low mileage'\n",
    "df_clean.loc[(df_clean['mileage'] >= 10000)&(df_clean['mileage'] <50000), 'mileage category']='low mileage'\n",
    "df_clean.loc[(df_clean['mileage'] >= 50000)&(df_clean['mileage'] <100000), 'mileage category']='decent mileage'\n",
    "df_clean.loc[(df_clean['mileage'] >= 100000)&(df_clean['mileage'] <200000), 'mileage category']='high mileage'\n",
    "df_clean.loc[df_clean['mileage'] >= 200000, 'mileage category']='very high mileage'"
   ]
  },
  {
   "cell_type": "code",
   "execution_count": 24,
   "id": "2d7b1e26",
   "metadata": {},
   "outputs": [
    {
     "data": {
      "text/plain": [
       "high mileage         110069\n",
       "low mileage           89958\n",
       "decent mileage        87634\n",
       "very low mileage      17077\n",
       "very high mileage     16125\n",
       "new                    5374\n",
       "Name: mileage category, dtype: int64"
      ]
     },
     "execution_count": 24,
     "metadata": {},
     "output_type": "execute_result"
    }
   ],
   "source": [
    "df_clean['mileage category'].value_counts(dropna=False)"
   ]
  },
  {
   "cell_type": "code",
   "execution_count": 25,
   "id": "763b388b",
   "metadata": {},
   "outputs": [],
   "source": [
    "# And, lets create a new column based on the price, to determine if the cars are in any of the categories below:\n",
    "# 'Very cheap','Cheap', 'Afordable', 'Expensive', 'Very Expensive'"
   ]
  },
  {
   "cell_type": "code",
   "execution_count": 26,
   "id": "63dd5f3f",
   "metadata": {},
   "outputs": [
    {
     "name": "stderr",
     "output_type": "stream",
     "text": [
      "C:\\Users\\anegl\\AppData\\Local\\Temp\\ipykernel_24284\\929057982.py:1: SettingWithCopyWarning: \n",
      "A value is trying to be set on a copy of a slice from a DataFrame.\n",
      "Try using .loc[row_indexer,col_indexer] = value instead\n",
      "\n",
      "See the caveats in the documentation: https://pandas.pydata.org/pandas-docs/stable/user_guide/indexing.html#returning-a-view-versus-a-copy\n",
      "  df_clean['price category'] = df_clean['price']\n"
     ]
    }
   ],
   "source": [
    "df_clean['price category'] = df_clean['price']"
   ]
  },
  {
   "cell_type": "code",
   "execution_count": 29,
   "id": "145f3ea8",
   "metadata": {},
   "outputs": [],
   "source": [
    "df_clean.loc[df_clean['price'] < 1000, 'price category']='very cheap'\n",
    "df_clean.loc[(df_clean['price'] >= 1000)&(df_clean['price'] <10000), 'price category']='cheap'\n",
    "df_clean.loc[(df_clean['price'] >= 10000)&(df_clean['price'] <30000), 'price category']='afordable'\n",
    "df_clean.loc[(df_clean['price'] >= 30000)&(df_clean['price'] <80000), 'price category']='expensive'\n",
    "df_clean.loc[df_clean['price'] >= 80000, 'price category']='very expensive'"
   ]
  },
  {
   "cell_type": "code",
   "execution_count": 30,
   "id": "8137cc87",
   "metadata": {},
   "outputs": [
    {
     "data": {
      "text/plain": [
       "afordable         139403\n",
       "cheap              89286\n",
       "expensive          63714\n",
       "very cheap         32661\n",
       "very expensive      1173\n",
       "Name: price category, dtype: int64"
      ]
     },
     "execution_count": 30,
     "metadata": {},
     "output_type": "execute_result"
    }
   ],
   "source": [
    "df_clean['price category'].value_counts(dropna=False)"
   ]
  },
  {
   "cell_type": "code",
   "execution_count": 31,
   "id": "6a6750dc",
   "metadata": {},
   "outputs": [],
   "source": [
    "# Exporting data to .csv to continue reviewing the data in Excel\n",
    "df_clean.to_csv(os.path.join(path,'df_clean.csv'))"
   ]
  },
  {
   "cell_type": "code",
   "execution_count": null,
   "id": "8b1ff724",
   "metadata": {},
   "outputs": [],
   "source": []
  }
 ],
 "metadata": {
  "kernelspec": {
   "display_name": "Python 3 (ipykernel)",
   "language": "python",
   "name": "python3"
  },
  "language_info": {
   "codemirror_mode": {
    "name": "ipython",
    "version": 3
   },
   "file_extension": ".py",
   "mimetype": "text/x-python",
   "name": "python",
   "nbconvert_exporter": "python",
   "pygments_lexer": "ipython3",
   "version": "3.9.12"
  }
 },
 "nbformat": 4,
 "nbformat_minor": 5
}
