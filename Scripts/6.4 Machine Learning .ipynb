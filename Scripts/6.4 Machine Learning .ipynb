{
 "cells": [
  {
   "cell_type": "markdown",
   "id": "f63c8974",
   "metadata": {},
   "source": [
    "# 6.4 Machine Learning "
   ]
  },
  {
   "cell_type": "code",
   "execution_count": 1,
   "id": "c3d01375",
   "metadata": {},
   "outputs": [],
   "source": [
    "# Importing the libraries that are going to be used and importing the DF\n",
    "import pandas as pd\n",
    "import numpy as np\n",
    "import seaborn as sns\n",
    "import matplotlib\n",
    "import matplotlib.pyplot as plt\n",
    "import os\n",
    "import sklearn\n",
    "from sklearn.model_selection import train_test_split \n",
    "from sklearn.linear_model import LinearRegression\n",
    "from sklearn.metrics import mean_squared_error, r2_score"
   ]
  },
  {
   "cell_type": "code",
   "execution_count": 2,
   "id": "b590ccfc",
   "metadata": {},
   "outputs": [],
   "source": [
    "path = 'D:\\Downloads\\Data Analytics\\TASK 6'"
   ]
  },
  {
   "cell_type": "code",
   "execution_count": 3,
   "id": "f4291445",
   "metadata": {},
   "outputs": [],
   "source": [
    "df = pd.read_csv(os.path.join(path,'df_clean4.csv'), index_col = False)"
   ]
  },
  {
   "cell_type": "code",
   "execution_count": 4,
   "id": "9406de47",
   "metadata": {},
   "outputs": [
    {
     "data": {
      "text/html": [
       "<div>\n",
       "<style scoped>\n",
       "    .dataframe tbody tr th:only-of-type {\n",
       "        vertical-align: middle;\n",
       "    }\n",
       "\n",
       "    .dataframe tbody tr th {\n",
       "        vertical-align: top;\n",
       "    }\n",
       "\n",
       "    .dataframe thead th {\n",
       "        text-align: right;\n",
       "    }\n",
       "</style>\n",
       "<table border=\"1\" class=\"dataframe\">\n",
       "  <thead>\n",
       "    <tr style=\"text-align: right;\">\n",
       "      <th></th>\n",
       "      <th>id</th>\n",
       "      <th>model year</th>\n",
       "      <th>manufacturer</th>\n",
       "      <th>model</th>\n",
       "      <th>cylinders</th>\n",
       "      <th>fuel</th>\n",
       "      <th>price</th>\n",
       "      <th>mileage</th>\n",
       "      <th>car conditions</th>\n",
       "      <th>transmission</th>\n",
       "      <th>car type</th>\n",
       "      <th>car colour</th>\n",
       "      <th>state</th>\n",
       "      <th>Date posted</th>\n",
       "      <th>mileage category</th>\n",
       "      <th>price category</th>\n",
       "    </tr>\n",
       "  </thead>\n",
       "  <tbody>\n",
       "    <tr>\n",
       "      <th>0</th>\n",
       "      <td>7308841185</td>\n",
       "      <td>1989</td>\n",
       "      <td>unknown</td>\n",
       "      <td>kenworth t-600</td>\n",
       "      <td>unknown</td>\n",
       "      <td>diesel</td>\n",
       "      <td>500</td>\n",
       "      <td>1111</td>\n",
       "      <td>parts only</td>\n",
       "      <td>manual</td>\n",
       "      <td>truck</td>\n",
       "      <td>white</td>\n",
       "      <td>North Carolina</td>\n",
       "      <td>18/04/2021</td>\n",
       "      <td>very low mileage</td>\n",
       "      <td>very cheap</td>\n",
       "    </tr>\n",
       "    <tr>\n",
       "      <th>1</th>\n",
       "      <td>7306992109</td>\n",
       "      <td>1994</td>\n",
       "      <td>chevrolet</td>\n",
       "      <td>unknown</td>\n",
       "      <td>8 cylinders</td>\n",
       "      <td>gas</td>\n",
       "      <td>500</td>\n",
       "      <td>1000</td>\n",
       "      <td>clean</td>\n",
       "      <td>manual</td>\n",
       "      <td>truck</td>\n",
       "      <td>red</td>\n",
       "      <td>Wisconsin</td>\n",
       "      <td>14/04/2021</td>\n",
       "      <td>very low mileage</td>\n",
       "      <td>very cheap</td>\n",
       "    </tr>\n",
       "    <tr>\n",
       "      <th>2</th>\n",
       "      <td>7302434257</td>\n",
       "      <td>1982</td>\n",
       "      <td>honda</td>\n",
       "      <td>cb750sc</td>\n",
       "      <td>4 cylinders</td>\n",
       "      <td>gas</td>\n",
       "      <td>500</td>\n",
       "      <td>1</td>\n",
       "      <td>clean</td>\n",
       "      <td>manual</td>\n",
       "      <td>other</td>\n",
       "      <td>unknown</td>\n",
       "      <td>Colorado</td>\n",
       "      <td>05/04/2021</td>\n",
       "      <td>new</td>\n",
       "      <td>very cheap</td>\n",
       "    </tr>\n",
       "    <tr>\n",
       "      <th>3</th>\n",
       "      <td>7313155712</td>\n",
       "      <td>1987</td>\n",
       "      <td>ford</td>\n",
       "      <td>thunderbird turbo coupe</td>\n",
       "      <td>6 cylinders</td>\n",
       "      <td>gas</td>\n",
       "      <td>500</td>\n",
       "      <td>0</td>\n",
       "      <td>parts only</td>\n",
       "      <td>automatic</td>\n",
       "      <td>coupe</td>\n",
       "      <td>black</td>\n",
       "      <td>California</td>\n",
       "      <td>26/04/2021</td>\n",
       "      <td>new</td>\n",
       "      <td>very cheap</td>\n",
       "    </tr>\n",
       "    <tr>\n",
       "      <th>4</th>\n",
       "      <td>7315266718</td>\n",
       "      <td>2016</td>\n",
       "      <td>gmc</td>\n",
       "      <td>yukon</td>\n",
       "      <td>8 cylinders</td>\n",
       "      <td>gas</td>\n",
       "      <td>501</td>\n",
       "      <td>70153</td>\n",
       "      <td>clean</td>\n",
       "      <td>automatic</td>\n",
       "      <td>SUV</td>\n",
       "      <td>unknown</td>\n",
       "      <td>California</td>\n",
       "      <td>01/05/2021</td>\n",
       "      <td>decent mileage</td>\n",
       "      <td>very cheap</td>\n",
       "    </tr>\n",
       "    <tr>\n",
       "      <th>...</th>\n",
       "      <td>...</td>\n",
       "      <td>...</td>\n",
       "      <td>...</td>\n",
       "      <td>...</td>\n",
       "      <td>...</td>\n",
       "      <td>...</td>\n",
       "      <td>...</td>\n",
       "      <td>...</td>\n",
       "      <td>...</td>\n",
       "      <td>...</td>\n",
       "      <td>...</td>\n",
       "      <td>...</td>\n",
       "      <td>...</td>\n",
       "      <td>...</td>\n",
       "      <td>...</td>\n",
       "      <td>...</td>\n",
       "    </tr>\n",
       "    <tr>\n",
       "      <th>294951</th>\n",
       "      <td>7314331466</td>\n",
       "      <td>2020</td>\n",
       "      <td>ferrari</td>\n",
       "      <td>f8 tributo</td>\n",
       "      <td>8 cylinders</td>\n",
       "      <td>gas</td>\n",
       "      <td>347999</td>\n",
       "      <td>3000</td>\n",
       "      <td>clean</td>\n",
       "      <td>automatic</td>\n",
       "      <td>coupe</td>\n",
       "      <td>unknown</td>\n",
       "      <td>California</td>\n",
       "      <td>29/04/2021</td>\n",
       "      <td>very low mileage</td>\n",
       "      <td>very expensive</td>\n",
       "    </tr>\n",
       "    <tr>\n",
       "      <th>294952</th>\n",
       "      <td>7306488355</td>\n",
       "      <td>2020</td>\n",
       "      <td>ferrari</td>\n",
       "      <td>f8 tributo</td>\n",
       "      <td>8 cylinders</td>\n",
       "      <td>gas</td>\n",
       "      <td>349999</td>\n",
       "      <td>2800</td>\n",
       "      <td>clean</td>\n",
       "      <td>automatic</td>\n",
       "      <td>coupe</td>\n",
       "      <td>unknown</td>\n",
       "      <td>California</td>\n",
       "      <td>13/04/2021</td>\n",
       "      <td>very low mileage</td>\n",
       "      <td>very expensive</td>\n",
       "    </tr>\n",
       "    <tr>\n",
       "      <th>294953</th>\n",
       "      <td>7303420900</td>\n",
       "      <td>2003</td>\n",
       "      <td>unknown</td>\n",
       "      <td>any and all</td>\n",
       "      <td>5 cylinders</td>\n",
       "      <td>diesel</td>\n",
       "      <td>400123</td>\n",
       "      <td>123321</td>\n",
       "      <td>clean</td>\n",
       "      <td>automatic</td>\n",
       "      <td>pickup</td>\n",
       "      <td>blue</td>\n",
       "      <td>Pennsylvania</td>\n",
       "      <td>07/04/2021</td>\n",
       "      <td>high mileage</td>\n",
       "      <td>very expensive</td>\n",
       "    </tr>\n",
       "    <tr>\n",
       "      <th>294954</th>\n",
       "      <td>7313051670</td>\n",
       "      <td>2016</td>\n",
       "      <td>unknown</td>\n",
       "      <td>Lambo Aventador SV Roadster</td>\n",
       "      <td>12 cylinders</td>\n",
       "      <td>gas</td>\n",
       "      <td>516999</td>\n",
       "      <td>9982</td>\n",
       "      <td>clean</td>\n",
       "      <td>automatic</td>\n",
       "      <td>convertible</td>\n",
       "      <td>white</td>\n",
       "      <td>Florida</td>\n",
       "      <td>26/04/2021</td>\n",
       "      <td>very low mileage</td>\n",
       "      <td>very expensive</td>\n",
       "    </tr>\n",
       "    <tr>\n",
       "      <th>294955</th>\n",
       "      <td>7315966576</td>\n",
       "      <td>2019</td>\n",
       "      <td>unknown</td>\n",
       "      <td>f250 xlt crewcab</td>\n",
       "      <td>8 cylinders</td>\n",
       "      <td>gas</td>\n",
       "      <td>554900</td>\n",
       "      <td>25365</td>\n",
       "      <td>lien</td>\n",
       "      <td>automatic</td>\n",
       "      <td>pickup</td>\n",
       "      <td>white</td>\n",
       "      <td>Michigan</td>\n",
       "      <td>02/05/2021</td>\n",
       "      <td>low mileage</td>\n",
       "      <td>very expensive</td>\n",
       "    </tr>\n",
       "  </tbody>\n",
       "</table>\n",
       "<p>294956 rows × 16 columns</p>\n",
       "</div>"
      ],
      "text/plain": [
       "                id  model year manufacturer                        model  \\\n",
       "0       7308841185        1989      unknown               kenworth t-600   \n",
       "1       7306992109        1994    chevrolet                      unknown   \n",
       "2       7302434257        1982        honda                      cb750sc   \n",
       "3       7313155712        1987         ford      thunderbird turbo coupe   \n",
       "4       7315266718        2016          gmc                        yukon   \n",
       "...            ...         ...          ...                          ...   \n",
       "294951  7314331466        2020      ferrari                   f8 tributo   \n",
       "294952  7306488355        2020      ferrari                   f8 tributo   \n",
       "294953  7303420900        2003      unknown                  any and all   \n",
       "294954  7313051670        2016      unknown  Lambo Aventador SV Roadster   \n",
       "294955  7315966576        2019      unknown             f250 xlt crewcab   \n",
       "\n",
       "           cylinders    fuel   price  mileage car conditions transmission  \\\n",
       "0            unknown  diesel     500     1111     parts only       manual   \n",
       "1        8 cylinders     gas     500     1000          clean       manual   \n",
       "2        4 cylinders     gas     500        1          clean       manual   \n",
       "3        6 cylinders     gas     500        0     parts only    automatic   \n",
       "4        8 cylinders     gas     501    70153          clean    automatic   \n",
       "...              ...     ...     ...      ...            ...          ...   \n",
       "294951   8 cylinders     gas  347999     3000          clean    automatic   \n",
       "294952   8 cylinders     gas  349999     2800          clean    automatic   \n",
       "294953   5 cylinders  diesel  400123   123321          clean    automatic   \n",
       "294954  12 cylinders     gas  516999     9982          clean    automatic   \n",
       "294955   8 cylinders     gas  554900    25365           lien    automatic   \n",
       "\n",
       "           car type car colour           state Date posted  mileage category  \\\n",
       "0             truck      white  North Carolina  18/04/2021  very low mileage   \n",
       "1             truck        red       Wisconsin  14/04/2021  very low mileage   \n",
       "2             other    unknown        Colorado  05/04/2021               new   \n",
       "3             coupe      black      California  26/04/2021               new   \n",
       "4               SUV    unknown      California  01/05/2021    decent mileage   \n",
       "...             ...        ...             ...         ...               ...   \n",
       "294951        coupe    unknown      California  29/04/2021  very low mileage   \n",
       "294952        coupe    unknown      California  13/04/2021  very low mileage   \n",
       "294953       pickup       blue    Pennsylvania  07/04/2021      high mileage   \n",
       "294954  convertible      white         Florida  26/04/2021  very low mileage   \n",
       "294955       pickup      white        Michigan  02/05/2021       low mileage   \n",
       "\n",
       "        price category  \n",
       "0           very cheap  \n",
       "1           very cheap  \n",
       "2           very cheap  \n",
       "3           very cheap  \n",
       "4           very cheap  \n",
       "...                ...  \n",
       "294951  very expensive  \n",
       "294952  very expensive  \n",
       "294953  very expensive  \n",
       "294954  very expensive  \n",
       "294955  very expensive  \n",
       "\n",
       "[294956 rows x 16 columns]"
      ]
     },
     "execution_count": 4,
     "metadata": {},
     "output_type": "execute_result"
    }
   ],
   "source": [
    "df"
   ]
  },
  {
   "cell_type": "code",
   "execution_count": 5,
   "id": "c27e65a0",
   "metadata": {},
   "outputs": [],
   "source": [
    "# Exploring the DF for variable relationships"
   ]
  },
  {
   "cell_type": "code",
   "execution_count": 20,
   "id": "66a2c7bc",
   "metadata": {},
   "outputs": [
    {
     "data": {
      "text/plain": [
       "<Figure size 1440x720 with 0 Axes>"
      ]
     },
     "metadata": {},
     "output_type": "display_data"
    },
    {
     "data": {
      "image/png": "[encoded data removed]",
      "text/plain": [
       "<Figure size 432x288 with 1 Axes>"
      ]
     },
     "metadata": {
      "needs_background": "light"
     },
     "output_type": "display_data"
    }
   ],
   "source": [
    "plt.figure(figsize=(20,10))\n",
    "df.plot(x = 'mileage', y='price',style='o') # The style option creates a scatterplot; without it, we only have lines.\n",
    "plt.title('Car mileage vs Price')  \n",
    "plt.xlabel('Mileage')  \n",
    "plt.ylabel('Car price')  \n",
    "plt.show()"
   ]
  },
  {
   "cell_type": "code",
   "execution_count": 7,
   "id": "eff7a69e",
   "metadata": {},
   "outputs": [],
   "source": [
    "# As we can see, there is an indication of a relation between those two variables\n",
    "# There is also an outlier that was preivously seen and was not removed, as some cars can have a very high price"
   ]
  },
  {
   "cell_type": "markdown",
   "id": "99e68b6e",
   "metadata": {},
   "source": [
    "## Original Hypothesis:\n",
    "#### Some states across the USA have different car preferences (SUV, Pickup, Hactback,…), then not all car types are available equally in proportion on all regions\n",
    "_____\n",
    "## Hypothesis for the exercise:\n",
    "#### Cars with a lower mileage, have a higher price."
   ]
  },
  {
   "cell_type": "markdown",
   "id": "67fa0982",
   "metadata": {},
   "source": [
    "_______"
   ]
  },
  {
   "cell_type": "markdown",
   "id": "c07879b9",
   "metadata": {},
   "source": [
    "### 6.6 Reshaping variables"
   ]
  },
  {
   "cell_type": "code",
   "execution_count": 8,
   "id": "887b094f",
   "metadata": {},
   "outputs": [],
   "source": [
    "X = df['mileage'].values.reshape(-1,1)\n",
    "y = df['price'].values.reshape(-1,1)"
   ]
  },
  {
   "cell_type": "code",
   "execution_count": 9,
   "id": "997edd66",
   "metadata": {},
   "outputs": [
    {
     "data": {
      "text/plain": [
       "array([[  1111],\n",
       "       [  1000],\n",
       "       [     1],\n",
       "       ...,\n",
       "       [123321],\n",
       "       [  9982],\n",
       "       [ 25365]], dtype=int64)"
      ]
     },
     "execution_count": 9,
     "metadata": {},
     "output_type": "execute_result"
    }
   ],
   "source": [
    "X"
   ]
  },
  {
   "cell_type": "code",
   "execution_count": 10,
   "id": "901f507a",
   "metadata": {},
   "outputs": [
    {
     "data": {
      "text/plain": [
       "array([[   500],\n",
       "       [   500],\n",
       "       [   500],\n",
       "       ...,\n",
       "       [400123],\n",
       "       [516999],\n",
       "       [554900]], dtype=int64)"
      ]
     },
     "execution_count": 10,
     "metadata": {},
     "output_type": "execute_result"
    }
   ],
   "source": [
    "y"
   ]
  },
  {
   "cell_type": "markdown",
   "id": "7b586c1c",
   "metadata": {},
   "source": [
    "### 6.7 Dividing into training and test set"
   ]
  },
  {
   "cell_type": "code",
   "execution_count": 11,
   "id": "2006d2f1",
   "metadata": {},
   "outputs": [],
   "source": [
    "X_train, X_test, y_train, y_test = train_test_split(X, y, test_size=0.3, random_state=0)"
   ]
  },
  {
   "cell_type": "markdown",
   "id": "18e7726c",
   "metadata": {},
   "source": [
    "### 6.8 Linear regression on the dataset"
   ]
  },
  {
   "cell_type": "code",
   "execution_count": 12,
   "id": "77db3b3b",
   "metadata": {},
   "outputs": [],
   "source": [
    "# Creating the Linear regression object to be used\n",
    "regression = LinearRegression()"
   ]
  },
  {
   "cell_type": "code",
   "execution_count": 13,
   "id": "365637a7",
   "metadata": {},
   "outputs": [
    {
     "data": {
      "text/plain": [
       "LinearRegression()"
      ]
     },
     "execution_count": 13,
     "metadata": {},
     "output_type": "execute_result"
    }
   ],
   "source": [
    "# Fitting the regression object onto the training set.\n",
    "regression.fit(X_train, y_train)"
   ]
  },
  {
   "cell_type": "code",
   "execution_count": 14,
   "id": "44c1bb52",
   "metadata": {},
   "outputs": [],
   "source": [
    "# Create predictions of y based on X.\n",
    "y_predicted = regression.predict(X_test)"
   ]
  },
  {
   "cell_type": "markdown",
   "id": "1d13c30d",
   "metadata": {},
   "source": [
    "### 6.9 Plot based on the test"
   ]
  },
  {
   "cell_type": "code",
   "execution_count": 15,
   "id": "290f80b1",
   "metadata": {},
   "outputs": [
    {
     "data": {
      "image/png": "[encoded data removed]",
      "text/plain": [
       "<Figure size 432x288 with 1 Axes>"
      ]
     },
     "metadata": {
      "needs_background": "light"
     },
     "output_type": "display_data"
    }
   ],
   "source": [
    "# Now lets create the first visualization to plot the prediction on top of the scatterplot\n",
    "plot_test = plt\n",
    "plot_test.scatter(X_test, y_test, color='gray', s = 15)\n",
    "plot_test.plot(X_test, y_predicted, color='red', linewidth =3)\n",
    "plot_test.title('Car mileage vs Price of the car (Test set)')\n",
    "plot_test.xlabel('Mileage')\n",
    "plot_test.ylabel('Car Price')\n",
    "plot_test.show()"
   ]
  },
  {
   "cell_type": "markdown",
   "id": "31ec129b",
   "metadata": {},
   "source": [
    "### 6.10 Interpreation of the test"
   ]
  },
  {
   "cell_type": "markdown",
   "id": "4b0f69ac",
   "metadata": {},
   "source": [
    "#### Inded there seems to be a relation, but as we can see it is not accurate, as the car prices started to become negative after a certain point, meaning that people would pay to get rid of their cars after a certain mileage. I know that some old cars can give headaches, but I don't think many people would pay to get rid of their cars.\n",
    "_______"
   ]
  },
  {
   "cell_type": "markdown",
   "id": "4f11e32c",
   "metadata": {},
   "source": [
    "### 6.11 MSE and R2"
   ]
  },
  {
   "cell_type": "code",
   "execution_count": 16,
   "id": "012a2f3c",
   "metadata": {},
   "outputs": [],
   "source": [
    "# For additional data, lets use the MSE and R2 statistics to evaluate the model performance\n",
    "rmse = mean_squared_error(y_test, y_predicted) \n",
    "r2 = r2_score(y_test, y_predicted)"
   ]
  },
  {
   "cell_type": "code",
   "execution_count": 17,
   "id": "41c00193",
   "metadata": {},
   "outputs": [
    {
     "name": "stdout",
     "output_type": "stream",
     "text": [
      "Slope: [[-0.12712119]]\n",
      "Mean squared error:  164154992.6997643\n",
      "R2 score:  0.2798521326546086\n"
     ]
    }
   ],
   "source": [
    "# And print out the results\n",
    "print('Slope:' ,regression.coef_)\n",
    "print('Mean squared error: ', rmse)\n",
    "print('R2 score: ', r2)"
   ]
  },
  {
   "cell_type": "markdown",
   "id": "7c5283e9",
   "metadata": {},
   "source": [
    "The **Slope** was negative, meaning that as the mileage rise (X), the prices (y) decreases, which is in accordance to the hypothesis.\n",
    "\n",
    "The **MSE** was incredible high, at 191,055,459 meaning that regression is not very good to create an accurate representation of the data.\n",
    "\n",
    "The **R2** was considerably low, at about 20%, which could be caused either by the outlier, and because there are other factors in place when it comes to car prices that are really relevant, for example a classical car, can have a high mileage, and depending on the conservation and year, sell for an insanely high price."
   ]
  },
  {
   "cell_type": "markdown",
   "id": "a001d764",
   "metadata": {},
   "source": [
    "### 6.12 Comparing the data "
   ]
  },
  {
   "cell_type": "code",
   "execution_count": 18,
   "id": "a0dc5322",
   "metadata": {},
   "outputs": [
    {
     "data": {
      "text/html": [
       "<div>\n",
       "<style scoped>\n",
       "    .dataframe tbody tr th:only-of-type {\n",
       "        vertical-align: middle;\n",
       "    }\n",
       "\n",
       "    .dataframe tbody tr th {\n",
       "        vertical-align: top;\n",
       "    }\n",
       "\n",
       "    .dataframe thead th {\n",
       "        text-align: right;\n",
       "    }\n",
       "</style>\n",
       "<table border=\"1\" class=\"dataframe\">\n",
       "  <thead>\n",
       "    <tr style=\"text-align: right;\">\n",
       "      <th></th>\n",
       "      <th>Actual</th>\n",
       "      <th>Predicted</th>\n",
       "    </tr>\n",
       "  </thead>\n",
       "  <tbody>\n",
       "    <tr>\n",
       "      <th>0</th>\n",
       "      <td>43190</td>\n",
       "      <td>26765.579170</td>\n",
       "    </tr>\n",
       "    <tr>\n",
       "      <th>1</th>\n",
       "      <td>8990</td>\n",
       "      <td>14978.012866</td>\n",
       "    </tr>\n",
       "    <tr>\n",
       "      <th>2</th>\n",
       "      <td>23590</td>\n",
       "      <td>29012.191908</td>\n",
       "    </tr>\n",
       "    <tr>\n",
       "      <th>3</th>\n",
       "      <td>10995</td>\n",
       "      <td>15344.757490</td>\n",
       "    </tr>\n",
       "    <tr>\n",
       "      <th>4</th>\n",
       "      <td>10995</td>\n",
       "      <td>18012.014235</td>\n",
       "    </tr>\n",
       "    <tr>\n",
       "      <th>5</th>\n",
       "      <td>2000</td>\n",
       "      <td>26058.785371</td>\n",
       "    </tr>\n",
       "    <tr>\n",
       "      <th>6</th>\n",
       "      <td>13577</td>\n",
       "      <td>16199.138988</td>\n",
       "    </tr>\n",
       "    <tr>\n",
       "      <th>7</th>\n",
       "      <td>13329</td>\n",
       "      <td>19572.553927</td>\n",
       "    </tr>\n",
       "    <tr>\n",
       "      <th>8</th>\n",
       "      <td>24999</td>\n",
       "      <td>11195.649069</td>\n",
       "    </tr>\n",
       "    <tr>\n",
       "      <th>9</th>\n",
       "      <td>44999</td>\n",
       "      <td>21036.481516</td>\n",
       "    </tr>\n",
       "    <tr>\n",
       "      <th>10</th>\n",
       "      <td>37600</td>\n",
       "      <td>11439.848869</td>\n",
       "    </tr>\n",
       "    <tr>\n",
       "      <th>11</th>\n",
       "      <td>21888</td>\n",
       "      <td>-11823.328347</td>\n",
       "    </tr>\n",
       "    <tr>\n",
       "      <th>12</th>\n",
       "      <td>19495</td>\n",
       "      <td>26064.505824</td>\n",
       "    </tr>\n",
       "    <tr>\n",
       "      <th>13</th>\n",
       "      <td>39900</td>\n",
       "      <td>13281.834868</td>\n",
       "    </tr>\n",
       "    <tr>\n",
       "      <th>14</th>\n",
       "      <td>6900</td>\n",
       "      <td>15347.681277</td>\n",
       "    </tr>\n",
       "    <tr>\n",
       "      <th>15</th>\n",
       "      <td>48995</td>\n",
       "      <td>25531.486687</td>\n",
       "    </tr>\n",
       "    <tr>\n",
       "      <th>16</th>\n",
       "      <td>28590</td>\n",
       "      <td>28147.005109</td>\n",
       "    </tr>\n",
       "    <tr>\n",
       "      <th>17</th>\n",
       "      <td>8000</td>\n",
       "      <td>9533.031064</td>\n",
       "    </tr>\n",
       "    <tr>\n",
       "      <th>18</th>\n",
       "      <td>10500</td>\n",
       "      <td>17923.029404</td>\n",
       "    </tr>\n",
       "    <tr>\n",
       "      <th>19</th>\n",
       "      <td>29990</td>\n",
       "      <td>28317.728863</td>\n",
       "    </tr>\n",
       "    <tr>\n",
       "      <th>20</th>\n",
       "      <td>5900</td>\n",
       "      <td>11185.606495</td>\n",
       "    </tr>\n",
       "    <tr>\n",
       "      <th>21</th>\n",
       "      <td>12980</td>\n",
       "      <td>11320.354953</td>\n",
       "    </tr>\n",
       "    <tr>\n",
       "      <th>22</th>\n",
       "      <td>32300</td>\n",
       "      <td>27166.265151</td>\n",
       "    </tr>\n",
       "    <tr>\n",
       "      <th>23</th>\n",
       "      <td>6900</td>\n",
       "      <td>14368.085411</td>\n",
       "    </tr>\n",
       "    <tr>\n",
       "      <th>24</th>\n",
       "      <td>24590</td>\n",
       "      <td>21187.755728</td>\n",
       "    </tr>\n",
       "    <tr>\n",
       "      <th>25</th>\n",
       "      <td>31990</td>\n",
       "      <td>28360.441582</td>\n",
       "    </tr>\n",
       "    <tr>\n",
       "      <th>26</th>\n",
       "      <td>21590</td>\n",
       "      <td>25466.273518</td>\n",
       "    </tr>\n",
       "    <tr>\n",
       "      <th>27</th>\n",
       "      <td>13500</td>\n",
       "      <td>18456.938390</td>\n",
       "    </tr>\n",
       "    <tr>\n",
       "      <th>28</th>\n",
       "      <td>7000</td>\n",
       "      <td>8638.606393</td>\n",
       "    </tr>\n",
       "    <tr>\n",
       "      <th>29</th>\n",
       "      <td>4988</td>\n",
       "      <td>9184.337648</td>\n",
       "    </tr>\n",
       "  </tbody>\n",
       "</table>\n",
       "</div>"
      ],
      "text/plain": [
       "    Actual     Predicted\n",
       "0    43190  26765.579170\n",
       "1     8990  14978.012866\n",
       "2    23590  29012.191908\n",
       "3    10995  15344.757490\n",
       "4    10995  18012.014235\n",
       "5     2000  26058.785371\n",
       "6    13577  16199.138988\n",
       "7    13329  19572.553927\n",
       "8    24999  11195.649069\n",
       "9    44999  21036.481516\n",
       "10   37600  11439.848869\n",
       "11   21888 -11823.328347\n",
       "12   19495  26064.505824\n",
       "13   39900  13281.834868\n",
       "14    6900  15347.681277\n",
       "15   48995  25531.486687\n",
       "16   28590  28147.005109\n",
       "17    8000   9533.031064\n",
       "18   10500  17923.029404\n",
       "19   29990  28317.728863\n",
       "20    5900  11185.606495\n",
       "21   12980  11320.354953\n",
       "22   32300  27166.265151\n",
       "23    6900  14368.085411\n",
       "24   24590  21187.755728\n",
       "25   31990  28360.441582\n",
       "26   21590  25466.273518\n",
       "27   13500  18456.938390\n",
       "28    7000   8638.606393\n",
       "29    4988   9184.337648"
      ]
     },
     "execution_count": 18,
     "metadata": {},
     "output_type": "execute_result"
    }
   ],
   "source": [
    "# Now, lets compare the prediction with the actual data.\n",
    "data = pd.DataFrame({'Actual': y_test.flatten(), 'Predicted': y_predicted.flatten()})\n",
    "data.head(30)"
   ]
  },
  {
   "cell_type": "markdown",
   "id": "24b31c23",
   "metadata": {},
   "source": [
    "### 6.13 Final thoughts"
   ]
  },
  {
   "cell_type": "markdown",
   "id": "5323261f",
   "metadata": {},
   "source": [
    "Unfortunately the linear regression model was not very useful in this case as there too many variables that would result in the car prices being different, such as the Maker, the car model, the location, the condition of the car, the color, and even things like the aesthetic of the car itself.\n",
    "To create a more acurate representation of the scenario, we could limit the dataset, remove the outliers and try to get a better result, however since the prices were going down, there would always be a tendency of the prices going to zero, which would not happen in the real world, as even a scraped car is worth something."
   ]
  },
  {
   "cell_type": "code",
   "execution_count": null,
   "id": "39bd3d0a",
   "metadata": {},
   "outputs": [],
   "source": []
  }
 ],
 "metadata": {
  "kernelspec": {
   "display_name": "Python 3 (ipykernel)",
   "language": "python",
   "name": "python3"
  },
  "language_info": {
   "codemirror_mode": {
    "name": "ipython",
    "version": 3
   },
   "file_extension": ".py",
   "mimetype": "text/x-python",
   "name": "python",
   "nbconvert_exporter": "python",
   "pygments_lexer": "ipython3",
   "version": "3.9.12"
  }
 },
 "nbformat": 4,
 "nbformat_minor": 5
}
